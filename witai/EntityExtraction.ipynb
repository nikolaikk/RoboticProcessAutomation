{
 "cells": [
  {
   "cell_type": "markdown",
   "id": "immediate-chicago",
   "metadata": {},
   "source": [
    "# Test NLP utils"
   ]
  },
  {
   "cell_type": "code",
   "execution_count": 289,
   "id": "innovative-anniversary",
   "metadata": {},
   "outputs": [],
   "source": [
    "import pandas as pd\n",
    "import numpy as np\n",
    "import sklearn\n",
    "from nltk.corpus import brown\n",
    "from nltk import chunk\n",
    "import nltk\n",
    "import spacy\n",
    "import warnings\n",
    "\n",
    "import en_core_web_sm\n",
    "\n",
    "nlp = en_core_web_sm.load()\n",
    "# nlp = spacy.load(\"en\")"
   ]
  },
  {
   "cell_type": "code",
   "execution_count": 74,
   "id": "supposed-updating",
   "metadata": {},
   "outputs": [],
   "source": [
    "test_example = \"Send a message to Brain Williams via Linkedin\""
   ]
  },
  {
   "cell_type": "code",
   "execution_count": 75,
   "id": "imported-manufacturer",
   "metadata": {},
   "outputs": [
    {
     "data": {
      "text/html": [
       "<div>\n",
       "<style scoped>\n",
       "    .dataframe tbody tr th:only-of-type {\n",
       "        vertical-align: middle;\n",
       "    }\n",
       "\n",
       "    .dataframe tbody tr th {\n",
       "        vertical-align: top;\n",
       "    }\n",
       "\n",
       "    .dataframe thead th {\n",
       "        text-align: right;\n",
       "    }\n",
       "</style>\n",
       "<table border=\"1\" class=\"dataframe\">\n",
       "  <thead>\n",
       "    <tr style=\"text-align: right;\">\n",
       "      <th></th>\n",
       "      <th>0</th>\n",
       "      <th>1</th>\n",
       "      <th>2</th>\n",
       "      <th>3</th>\n",
       "      <th>4</th>\n",
       "      <th>5</th>\n",
       "      <th>6</th>\n",
       "      <th>7</th>\n",
       "    </tr>\n",
       "  </thead>\n",
       "  <tbody>\n",
       "    <tr>\n",
       "      <th>Text</th>\n",
       "      <td>Send</td>\n",
       "      <td>a</td>\n",
       "      <td>message</td>\n",
       "      <td>to</td>\n",
       "      <td>Brain</td>\n",
       "      <td>Williams</td>\n",
       "      <td>via</td>\n",
       "      <td>Linkedin</td>\n",
       "    </tr>\n",
       "    <tr>\n",
       "      <th>Lemma</th>\n",
       "      <td>send</td>\n",
       "      <td>a</td>\n",
       "      <td>message</td>\n",
       "      <td>to</td>\n",
       "      <td>Brain</td>\n",
       "      <td>Williams</td>\n",
       "      <td>via</td>\n",
       "      <td>Linkedin</td>\n",
       "    </tr>\n",
       "    <tr>\n",
       "      <th>POS</th>\n",
       "      <td>VERB</td>\n",
       "      <td>DET</td>\n",
       "      <td>NOUN</td>\n",
       "      <td>ADP</td>\n",
       "      <td>PROPN</td>\n",
       "      <td>PROPN</td>\n",
       "      <td>ADP</td>\n",
       "      <td>PROPN</td>\n",
       "    </tr>\n",
       "    <tr>\n",
       "      <th>Tag</th>\n",
       "      <td>VB</td>\n",
       "      <td>DT</td>\n",
       "      <td>NN</td>\n",
       "      <td>IN</td>\n",
       "      <td>NNP</td>\n",
       "      <td>NNP</td>\n",
       "      <td>IN</td>\n",
       "      <td>NNP</td>\n",
       "    </tr>\n",
       "    <tr>\n",
       "      <th>Dep</th>\n",
       "      <td>ROOT</td>\n",
       "      <td>det</td>\n",
       "      <td>dobj</td>\n",
       "      <td>dative</td>\n",
       "      <td>compound</td>\n",
       "      <td>pobj</td>\n",
       "      <td>prep</td>\n",
       "      <td>pobj</td>\n",
       "    </tr>\n",
       "    <tr>\n",
       "      <th>Entity</th>\n",
       "      <td></td>\n",
       "      <td></td>\n",
       "      <td></td>\n",
       "      <td></td>\n",
       "      <td>PERSON</td>\n",
       "      <td>PERSON</td>\n",
       "      <td></td>\n",
       "      <td>PERSON</td>\n",
       "    </tr>\n",
       "  </tbody>\n",
       "</table>\n",
       "</div>"
      ],
      "text/plain": [
       "           0    1        2       3         4         5     6         7\n",
       "Text    Send    a  message      to     Brain  Williams   via  Linkedin\n",
       "Lemma   send    a  message      to     Brain  Williams   via  Linkedin\n",
       "POS     VERB  DET     NOUN     ADP     PROPN     PROPN   ADP     PROPN\n",
       "Tag       VB   DT       NN      IN       NNP       NNP    IN       NNP\n",
       "Dep     ROOT  det     dobj  dative  compound      pobj  prep      pobj\n",
       "Entity                                PERSON    PERSON          PERSON"
      ]
     },
     "execution_count": 75,
     "metadata": {},
     "output_type": "execute_result"
    }
   ],
   "source": [
    "# doc = nlp(\"Apple is looking at buying U.K. startup for $1 billion\")\n",
    "# doc = nlp(\"Increase followers on Linkedin\")\n",
    "doc = nlp(test_example)\n",
    "\n",
    "tokens = []\n",
    "for token in doc:\n",
    "    token_char = [token.text, token.lemma_, token.pos_, token.tag_, token.dep_, token.ent_type_]\n",
    "#     print(token.text, token.lemma_, token.pos_, token.tag_, token.dep_, token.ent_type_)\n",
    "    tokens.append(token_char)\n",
    "pd.DataFrame(tokens, columns = \"Text Lemma POS Tag Dep Entity\".split(\" \")).T"
   ]
  },
  {
   "cell_type": "code",
   "execution_count": 76,
   "id": "major-melbourne",
   "metadata": {},
   "outputs": [
    {
     "data": {
      "text/html": [
       "<span class=\"tex2jax_ignore\"><svg xmlns=\"http://www.w3.org/2000/svg\" xmlns:xlink=\"http://www.w3.org/1999/xlink\" xml:lang=\"en\" id=\"9d4ce35324aa4422893bba82abcdd597-0\" class=\"displacy\" width=\"1450\" height=\"487.0\" direction=\"ltr\" style=\"max-width: none; height: 487.0px; color: #000000; background: #ffffff; font-family: Arial; direction: ltr\">\n",
       "<text class=\"displacy-token\" fill=\"currentColor\" text-anchor=\"middle\" y=\"397.0\">\n",
       "    <tspan class=\"displacy-word\" fill=\"currentColor\" x=\"50\">Send</tspan>\n",
       "    <tspan class=\"displacy-tag\" dy=\"2em\" fill=\"currentColor\" x=\"50\">VERB</tspan>\n",
       "</text>\n",
       "\n",
       "<text class=\"displacy-token\" fill=\"currentColor\" text-anchor=\"middle\" y=\"397.0\">\n",
       "    <tspan class=\"displacy-word\" fill=\"currentColor\" x=\"225\">a</tspan>\n",
       "    <tspan class=\"displacy-tag\" dy=\"2em\" fill=\"currentColor\" x=\"225\">DET</tspan>\n",
       "</text>\n",
       "\n",
       "<text class=\"displacy-token\" fill=\"currentColor\" text-anchor=\"middle\" y=\"397.0\">\n",
       "    <tspan class=\"displacy-word\" fill=\"currentColor\" x=\"400\">message</tspan>\n",
       "    <tspan class=\"displacy-tag\" dy=\"2em\" fill=\"currentColor\" x=\"400\">NOUN</tspan>\n",
       "</text>\n",
       "\n",
       "<text class=\"displacy-token\" fill=\"currentColor\" text-anchor=\"middle\" y=\"397.0\">\n",
       "    <tspan class=\"displacy-word\" fill=\"currentColor\" x=\"575\">to</tspan>\n",
       "    <tspan class=\"displacy-tag\" dy=\"2em\" fill=\"currentColor\" x=\"575\">ADP</tspan>\n",
       "</text>\n",
       "\n",
       "<text class=\"displacy-token\" fill=\"currentColor\" text-anchor=\"middle\" y=\"397.0\">\n",
       "    <tspan class=\"displacy-word\" fill=\"currentColor\" x=\"750\">Brain</tspan>\n",
       "    <tspan class=\"displacy-tag\" dy=\"2em\" fill=\"currentColor\" x=\"750\">PROPN</tspan>\n",
       "</text>\n",
       "\n",
       "<text class=\"displacy-token\" fill=\"currentColor\" text-anchor=\"middle\" y=\"397.0\">\n",
       "    <tspan class=\"displacy-word\" fill=\"currentColor\" x=\"925\">Williams</tspan>\n",
       "    <tspan class=\"displacy-tag\" dy=\"2em\" fill=\"currentColor\" x=\"925\">PROPN</tspan>\n",
       "</text>\n",
       "\n",
       "<text class=\"displacy-token\" fill=\"currentColor\" text-anchor=\"middle\" y=\"397.0\">\n",
       "    <tspan class=\"displacy-word\" fill=\"currentColor\" x=\"1100\">via</tspan>\n",
       "    <tspan class=\"displacy-tag\" dy=\"2em\" fill=\"currentColor\" x=\"1100\">ADP</tspan>\n",
       "</text>\n",
       "\n",
       "<text class=\"displacy-token\" fill=\"currentColor\" text-anchor=\"middle\" y=\"397.0\">\n",
       "    <tspan class=\"displacy-word\" fill=\"currentColor\" x=\"1275\">Linkedin</tspan>\n",
       "    <tspan class=\"displacy-tag\" dy=\"2em\" fill=\"currentColor\" x=\"1275\">PROPN</tspan>\n",
       "</text>\n",
       "\n",
       "<g class=\"displacy-arrow\">\n",
       "    <path class=\"displacy-arc\" id=\"arrow-9d4ce35324aa4422893bba82abcdd597-0-0\" stroke-width=\"2px\" d=\"M245,352.0 C245,264.5 385.0,264.5 385.0,352.0\" fill=\"none\" stroke=\"currentColor\"/>\n",
       "    <text dy=\"1.25em\" style=\"font-size: 0.8em; letter-spacing: 1px\">\n",
       "        <textPath xlink:href=\"#arrow-9d4ce35324aa4422893bba82abcdd597-0-0\" class=\"displacy-label\" startOffset=\"50%\" side=\"left\" fill=\"currentColor\" text-anchor=\"middle\">det</textPath>\n",
       "    </text>\n",
       "    <path class=\"displacy-arrowhead\" d=\"M245,354.0 L237,342.0 253,342.0\" fill=\"currentColor\"/>\n",
       "</g>\n",
       "\n",
       "<g class=\"displacy-arrow\">\n",
       "    <path class=\"displacy-arc\" id=\"arrow-9d4ce35324aa4422893bba82abcdd597-0-1\" stroke-width=\"2px\" d=\"M70,352.0 C70,177.0 390.0,177.0 390.0,352.0\" fill=\"none\" stroke=\"currentColor\"/>\n",
       "    <text dy=\"1.25em\" style=\"font-size: 0.8em; letter-spacing: 1px\">\n",
       "        <textPath xlink:href=\"#arrow-9d4ce35324aa4422893bba82abcdd597-0-1\" class=\"displacy-label\" startOffset=\"50%\" side=\"left\" fill=\"currentColor\" text-anchor=\"middle\">dobj</textPath>\n",
       "    </text>\n",
       "    <path class=\"displacy-arrowhead\" d=\"M390.0,354.0 L398.0,342.0 382.0,342.0\" fill=\"currentColor\"/>\n",
       "</g>\n",
       "\n",
       "<g class=\"displacy-arrow\">\n",
       "    <path class=\"displacy-arc\" id=\"arrow-9d4ce35324aa4422893bba82abcdd597-0-2\" stroke-width=\"2px\" d=\"M70,352.0 C70,89.5 570.0,89.5 570.0,352.0\" fill=\"none\" stroke=\"currentColor\"/>\n",
       "    <text dy=\"1.25em\" style=\"font-size: 0.8em; letter-spacing: 1px\">\n",
       "        <textPath xlink:href=\"#arrow-9d4ce35324aa4422893bba82abcdd597-0-2\" class=\"displacy-label\" startOffset=\"50%\" side=\"left\" fill=\"currentColor\" text-anchor=\"middle\">dative</textPath>\n",
       "    </text>\n",
       "    <path class=\"displacy-arrowhead\" d=\"M570.0,354.0 L578.0,342.0 562.0,342.0\" fill=\"currentColor\"/>\n",
       "</g>\n",
       "\n",
       "<g class=\"displacy-arrow\">\n",
       "    <path class=\"displacy-arc\" id=\"arrow-9d4ce35324aa4422893bba82abcdd597-0-3\" stroke-width=\"2px\" d=\"M770,352.0 C770,264.5 910.0,264.5 910.0,352.0\" fill=\"none\" stroke=\"currentColor\"/>\n",
       "    <text dy=\"1.25em\" style=\"font-size: 0.8em; letter-spacing: 1px\">\n",
       "        <textPath xlink:href=\"#arrow-9d4ce35324aa4422893bba82abcdd597-0-3\" class=\"displacy-label\" startOffset=\"50%\" side=\"left\" fill=\"currentColor\" text-anchor=\"middle\">compound</textPath>\n",
       "    </text>\n",
       "    <path class=\"displacy-arrowhead\" d=\"M770,354.0 L762,342.0 778,342.0\" fill=\"currentColor\"/>\n",
       "</g>\n",
       "\n",
       "<g class=\"displacy-arrow\">\n",
       "    <path class=\"displacy-arc\" id=\"arrow-9d4ce35324aa4422893bba82abcdd597-0-4\" stroke-width=\"2px\" d=\"M595,352.0 C595,177.0 915.0,177.0 915.0,352.0\" fill=\"none\" stroke=\"currentColor\"/>\n",
       "    <text dy=\"1.25em\" style=\"font-size: 0.8em; letter-spacing: 1px\">\n",
       "        <textPath xlink:href=\"#arrow-9d4ce35324aa4422893bba82abcdd597-0-4\" class=\"displacy-label\" startOffset=\"50%\" side=\"left\" fill=\"currentColor\" text-anchor=\"middle\">pobj</textPath>\n",
       "    </text>\n",
       "    <path class=\"displacy-arrowhead\" d=\"M915.0,354.0 L923.0,342.0 907.0,342.0\" fill=\"currentColor\"/>\n",
       "</g>\n",
       "\n",
       "<g class=\"displacy-arrow\">\n",
       "    <path class=\"displacy-arc\" id=\"arrow-9d4ce35324aa4422893bba82abcdd597-0-5\" stroke-width=\"2px\" d=\"M70,352.0 C70,2.0 1100.0,2.0 1100.0,352.0\" fill=\"none\" stroke=\"currentColor\"/>\n",
       "    <text dy=\"1.25em\" style=\"font-size: 0.8em; letter-spacing: 1px\">\n",
       "        <textPath xlink:href=\"#arrow-9d4ce35324aa4422893bba82abcdd597-0-5\" class=\"displacy-label\" startOffset=\"50%\" side=\"left\" fill=\"currentColor\" text-anchor=\"middle\">prep</textPath>\n",
       "    </text>\n",
       "    <path class=\"displacy-arrowhead\" d=\"M1100.0,354.0 L1108.0,342.0 1092.0,342.0\" fill=\"currentColor\"/>\n",
       "</g>\n",
       "\n",
       "<g class=\"displacy-arrow\">\n",
       "    <path class=\"displacy-arc\" id=\"arrow-9d4ce35324aa4422893bba82abcdd597-0-6\" stroke-width=\"2px\" d=\"M1120,352.0 C1120,264.5 1260.0,264.5 1260.0,352.0\" fill=\"none\" stroke=\"currentColor\"/>\n",
       "    <text dy=\"1.25em\" style=\"font-size: 0.8em; letter-spacing: 1px\">\n",
       "        <textPath xlink:href=\"#arrow-9d4ce35324aa4422893bba82abcdd597-0-6\" class=\"displacy-label\" startOffset=\"50%\" side=\"left\" fill=\"currentColor\" text-anchor=\"middle\">pobj</textPath>\n",
       "    </text>\n",
       "    <path class=\"displacy-arrowhead\" d=\"M1260.0,354.0 L1268.0,342.0 1252.0,342.0\" fill=\"currentColor\"/>\n",
       "</g>\n",
       "</svg></span>"
      ],
      "text/plain": [
       "<IPython.core.display.HTML object>"
      ]
     },
     "metadata": {},
     "output_type": "display_data"
    }
   ],
   "source": [
    "spacy.displacy.render(doc, jupyter=True, style='dep')"
   ]
  },
  {
   "cell_type": "code",
   "execution_count": 77,
   "id": "attempted-lloyd",
   "metadata": {},
   "outputs": [
    {
     "data": {
      "text/html": [
       "<span class=\"tex2jax_ignore\"><div class=\"entities\" style=\"line-height: 2.5; direction: ltr\">Send a message to \n",
       "<mark class=\"entity\" style=\"background: #aa9cfc; padding: 0.45em 0.6em; margin: 0 0.25em; line-height: 1; border-radius: 0.35em;\">\n",
       "    Brain Williams\n",
       "    <span style=\"font-size: 0.8em; font-weight: bold; line-height: 1; border-radius: 0.35em; text-transform: uppercase; vertical-align: middle; margin-left: 0.5rem\">PERSON</span>\n",
       "</mark>\n",
       " via \n",
       "<mark class=\"entity\" style=\"background: #aa9cfc; padding: 0.45em 0.6em; margin: 0 0.25em; line-height: 1; border-radius: 0.35em;\">\n",
       "    Linkedin\n",
       "    <span style=\"font-size: 0.8em; font-weight: bold; line-height: 1; border-radius: 0.35em; text-transform: uppercase; vertical-align: middle; margin-left: 0.5rem\">PERSON</span>\n",
       "</mark>\n",
       "</div></span>"
      ],
      "text/plain": [
       "<IPython.core.display.HTML object>"
      ]
     },
     "metadata": {},
     "output_type": "display_data"
    }
   ],
   "source": [
    "spacy.displacy.render(doc, jupyter=True, style='ent')"
   ]
  },
  {
   "cell_type": "code",
   "execution_count": 78,
   "id": "handed-sweden",
   "metadata": {},
   "outputs": [],
   "source": [
    "def return_results(doc):\n",
    "    tokens = []\n",
    "    for token in doc:\n",
    "        token_char = [token.text, token.lemma_, token.pos_, token.tag_, token.dep_, token.ent_type_]\n",
    "    #     print(token.text, token.lemma_, token.pos_, token.tag_, token.dep_, token.ent_type_)\n",
    "        tokens.append(token_char)\n",
    "    tokens = pd.DataFrame(tokens, columns = \"Text Lemma POS Tag Dep Entity\".split(\" \"))\n",
    "    action = tokens[tokens[\"Dep\"]==\"ROOT\"][\"Lemma\"][0]\n",
    "    \n",
    "    keys = tokens[tokens[\"Entity\"]!=\"\"][[\"Lemma\", \"Entity\"]]\n",
    "    keys_dic = keys.groupby(\"Entity\")[\"Lemma\"].apply(list).to_dict()\n",
    "    return tokens, action, keys_dic\n",
    "\n",
    "tokens, _, keys = return_results(doc)"
   ]
  },
  {
   "cell_type": "markdown",
   "id": "graduate-nepal",
   "metadata": {},
   "source": [
    "# Train model"
   ]
  },
  {
   "cell_type": "code",
   "execution_count": 79,
   "id": "multiple-webster",
   "metadata": {},
   "outputs": [],
   "source": [
    "ner = nlp.get_pipe(\"ner\")"
   ]
  },
  {
   "cell_type": "code",
   "execution_count": 80,
   "id": "secondary-question",
   "metadata": {},
   "outputs": [],
   "source": [
    "TRAIN_DATA = [\n",
    "              (\"Check Brian's posts on Linkedin.\", {\"entities\": [(23, 31, \"ORG\")]}),\n",
    "#               (\"Send a message to John on Linkedin.\", {\"entities\": [(26, 34, \"ORG\")]}),\n",
    "              (\"I recently ordered a book from Amazon\", {\"entities\": [(24,32, \"ORG\")]}),\n",
    "              (\"I was driving a BMW\", {\"entities\": [(16,19, \"PRODUCT\")]}),\n",
    "              (\"I ordered this from ShopClues\", {\"entities\": [(20,29, \"ORG\")]})]"
   ]
  },
  {
   "cell_type": "code",
   "execution_count": 81,
   "id": "attractive-concert",
   "metadata": {},
   "outputs": [],
   "source": [
    "# Adding labels to the `ner`\n",
    "\n",
    "for _, annotations in TRAIN_DATA:\n",
    "    for ent in annotations.get(\"entities\"):\n",
    "        ner.add_label(ent[2])"
   ]
  },
  {
   "cell_type": "code",
   "execution_count": 82,
   "id": "broke-palestinian",
   "metadata": {},
   "outputs": [],
   "source": [
    "# Disable pipeline components you dont need to change\n",
    "pipe_exceptions = [\"ner\", \"trf_wordpiecer\", \"trf_tok2vec\"]\n",
    "unaffected_pipes = [pipe for pipe in nlp.pipe_names if pipe not in pipe_exceptions]"
   ]
  },
  {
   "cell_type": "code",
   "execution_count": 83,
   "id": "blocked-aberdeen",
   "metadata": {},
   "outputs": [
    {
     "name": "stderr",
     "output_type": "stream",
     "text": [
      "/opt/anaconda3/envs/dl/lib/python3.9/site-packages/spacy/language.py:482: UserWarning: [W030] Some entities could not be aligned in the text \"I recently ordered a book from Amazon\" with entities \"[(24, 32, 'ORG')]\". Use `spacy.gold.biluo_tags_from_offsets(nlp.make_doc(text), entities)` to check the alignment. Misaligned entities (with BILUO tag '-') will be ignored during training.\n",
      "  gold = GoldParse(doc, **gold)\n"
     ]
    },
    {
     "name": "stdout",
     "output_type": "stream",
     "text": [
      "0  Losses {'ner': 5.759613461312256}\n",
      "4  Losses {'ner': 8.59147003479302}\n",
      "8  Losses {'ner': 4.370278474219958}\n",
      "12  Losses {'ner': 2.011332681685417}\n",
      "16  Losses {'ner': 0.5031419273364008}\n",
      "20  Losses {'ner': 0.9644296541810036}\n",
      "24  Losses {'ner': 4.688607818763558}\n",
      "28  Losses {'ner': 0.6370923449212569}\n"
     ]
    }
   ],
   "source": [
    "# Import requirements\n",
    "import random\n",
    "from spacy.util import minibatch, compounding\n",
    "from pathlib import Path\n",
    "\n",
    "# TRAINING THE MODEL\n",
    "with nlp.disable_pipes(*unaffected_pipes):\n",
    "\n",
    "  # Training for 30 iterations\n",
    "  for iteration in range(30):\n",
    "\n",
    "    # shuufling examples  before every iteration\n",
    "    random.shuffle(TRAIN_DATA)\n",
    "    losses = {}\n",
    "    # batch up the examples using spaCy's minibatch\n",
    "    batches = minibatch(TRAIN_DATA, size=compounding(4.0, 32.0, 1.001))\n",
    "    for batch in batches:\n",
    "        texts, annotations = zip(*batch)\n",
    "        nlp.update(\n",
    "                    texts,  # batch of texts\n",
    "                    annotations,  # batch of annotations\n",
    "                    drop=0.5,  # dropout - make it harder to memorise data\n",
    "                    losses=losses,\n",
    "                )\n",
    "    if iteration%4==0:\n",
    "        print(iteration, \" Losses\", losses)"
   ]
  },
  {
   "cell_type": "code",
   "execution_count": 84,
   "id": "copyrighted-wednesday",
   "metadata": {},
   "outputs": [
    {
     "data": {
      "text/html": [
       "<span class=\"tex2jax_ignore\"><div class=\"entities\" style=\"line-height: 2.5; direction: ltr\">Send a message to \n",
       "<mark class=\"entity\" style=\"background: #aa9cfc; padding: 0.45em 0.6em; margin: 0 0.25em; line-height: 1; border-radius: 0.35em;\">\n",
       "    Brain Williams\n",
       "    <span style=\"font-size: 0.8em; font-weight: bold; line-height: 1; border-radius: 0.35em; text-transform: uppercase; vertical-align: middle; margin-left: 0.5rem\">PERSON</span>\n",
       "</mark>\n",
       " via \n",
       "<mark class=\"entity\" style=\"background: #7aecec; padding: 0.45em 0.6em; margin: 0 0.25em; line-height: 1; border-radius: 0.35em;\">\n",
       "    Linkedin\n",
       "    <span style=\"font-size: 0.8em; font-weight: bold; line-height: 1; border-radius: 0.35em; text-transform: uppercase; vertical-align: middle; margin-left: 0.5rem\">ORG</span>\n",
       "</mark>\n",
       ".</div></span>"
      ],
      "text/plain": [
       "<IPython.core.display.HTML object>"
      ]
     },
     "metadata": {},
     "output_type": "display_data"
    }
   ],
   "source": [
    "spacy.displacy.render(nlp(\"Send a message to Brain Williams via Linkedin.\"), jupyter=True, style='ent')"
   ]
  },
  {
   "cell_type": "code",
   "execution_count": 85,
   "id": "controversial-schema",
   "metadata": {},
   "outputs": [
    {
     "data": {
      "text/plain": [
       "(       Text     Lemma    POS  Tag       Dep  Entity\n",
       " 0      Send      send   VERB   VB      ROOT        \n",
       " 1         a         a    DET   DT       det        \n",
       " 2   message   message   NOUN   NN      dobj        \n",
       " 3        to        to    ADP   IN    dative        \n",
       " 4     Brain     Brain  PROPN  NNP  compound  PERSON\n",
       " 5  Williams  Williams  PROPN  NNP      pobj  PERSON\n",
       " 6       via       via    ADP   IN      prep        \n",
       " 7  Linkedin  Linkedin  PROPN  NNP      pobj     ORG\n",
       " 8         .         .  PUNCT    .     punct        ,\n",
       " 'send',\n",
       " {'ORG': ['Linkedin'], 'PERSON': ['Brain', 'Williams']})"
      ]
     },
     "execution_count": 85,
     "metadata": {},
     "output_type": "execute_result"
    }
   ],
   "source": [
    "return_results(nlp(\"Send a message to Brain Williams via Linkedin.\"))"
   ]
  },
  {
   "cell_type": "markdown",
   "id": "radical-hypothesis",
   "metadata": {},
   "source": [
    "# Check related data"
   ]
  },
  {
   "cell_type": "code",
   "execution_count": 60,
   "id": "fantastic-contact",
   "metadata": {},
   "outputs": [],
   "source": [
    "# return_results(nlp(\"Increase followers on Linkedin\"))"
   ]
  },
  {
   "cell_type": "code",
   "execution_count": 65,
   "id": "reflected-march",
   "metadata": {},
   "outputs": [
    {
     "data": {
      "text/plain": [
       "['1. Connect with marketing professionals',\n",
       " '2. Connect with marketing specialists',\n",
       " '3. Connect with specialists on Linkedin',\n",
       " '4. Grow my network on Linkedin',\n",
       " '5. Invite people to connect with me on Linkedin',\n",
       " '6. Invite people who commented to connect',\n",
       " '7. Connect with people who posted comments to my post',\n",
       " '8. Connect with people who posted comments',\n",
       " '9. Accept invitations from <specific people> only',\n",
       " '10. Do not accept all invitations to connect',\n",
       " \"11. Don't accept all the invitations on Linkedin\",\n",
       " '12. Ask to approve before accepting invitations',\n",
       " '13. Send invitations to follow the company page (name)',\n",
       " '14. Invite users to like the page',\n",
       " '15. Invite users to follow the page',\n",
       " '16. Get more followers',\n",
       " '17. Increase followers on Linkedin',\n",
       " '18. Send congratulations on the new job',\n",
       " '19. Send best wishes for new job',\n",
       " '20. Send job congratulations for the new job',\n",
       " '21. Send new position messages',\n",
       " '22. Send congratulations on special international days',\n",
       " '23. Send best wishes on <occasion>',\n",
       " '24. Send congratulations on all special days',\n",
       " '25. Send congratulations on all special occasions',\n",
       " '26. Send greetings on all special occasions ',\n",
       " '27. Send congratulations on <occasion>',\n",
       " '28. Send congratulations on specific days',\n",
       " '29. Send best wishes on <occasion>',\n",
       " '30. Send greetings on <occasion>',\n",
       " '30. Send birthday congratulations on Linkedin',\n",
       " '31. Send birthday messages',\n",
       " '32. Automate wishing my LinkedIn connections Happy Birthday',\n",
       " '33. Send birthday wishes on Linkedin',\n",
       " '34. Send out birthday wishes ',\n",
       " '35. Send thank you messages for accepting invitations to connect ',\n",
       " '36. Send thank you messages after connecting on Linkedin',\n",
       " '37. Thank people for connecting on Linkedin',\n",
       " '38. Respond when someone connects on Linkedin',\n",
       " '39. Collect articles',\n",
       " '40. Find articles',\n",
       " '41. Find posts',\n",
       " '42. Share posts published by team members',\n",
       " '43. Share posts published by employees',\n",
       " \"44. Share employee's posts\",\n",
       " \"45. Share employee's articles\",\n",
       " '46. Comment posts related to <keyword>',\n",
       " '47. Find posts about <keyword> and post comments',\n",
       " '48. Find articles related to <keywords> and reply',\n",
       " '49. Like posts related to <keywords>',\n",
       " '50. Like articles about',\n",
       " '51. Find articles about and react',\n",
       " '52. Find posts related to <keyword> and like',\n",
       " '53. Like all the articles from my feed',\n",
       " '54. Like posts from my feed',\n",
       " '55. Find all posts in my feed and like ',\n",
       " '56. Like posts as <company name>',\n",
       " '57. Like posts from my business page',\n",
       " \"58. Like posts from company's page\",\n",
       " \"59. Re-share team's best mentions and content\",\n",
       " \"60. Share member's posts\",\n",
       " '61. Share the content posted by team members',\n",
       " '62. Share articles published by employees',\n",
       " '63. Like posts where the company has been mentioned',\n",
       " '64. Find company mentions and like posts',\n",
       " '65. Recognize team moments',\n",
       " '66. Recognize team moments/employees with a personalized shout-out from my Page',\n",
       " '67. Show appreciation to team members',\n",
       " '68. Show appreciation to emplyees',\n",
       " '69. Thank team virtually',\n",
       " '70. Welcome new member',\n",
       " '71. Welcome new employee to the team ',\n",
       " \"72. Create a welcome post on company's page for new member\",\n",
       " '73. Announce project launch',\n",
       " '74. Announce about a new project',\n",
       " '75. Create a post about a new launching project',\n",
       " '76. Celebrate work anniversary',\n",
       " '77. Announce a team celebration',\n",
       " \"78. celebrate a team's milestone\",\n",
       " \"79. celebrate a company's milestone\",\n",
       " \"80. Celebrate an employer's new position\",\n",
       " \"81. Announce a team member's job promotion\",\n",
       " '82. Search for candidates',\n",
       " '83. Find candidates',\n",
       " '84. Find additional job candidates',\n",
       " '85. Search resumes on Linkedin ',\n",
       " '86. Analyze Linkedin profiles',\n",
       " '87. Analyze candidates profile',\n",
       " \"88. Find information about candidate's experience\",\n",
       " '89. Download/collect CV/resume for each potential candidate ',\n",
       " '90. search for companies by industry',\n",
       " '91. Find companies using <keywords>',\n",
       " '92. Discover new companies on Linkedin']"
      ]
     },
     "execution_count": 65,
     "metadata": {},
     "output_type": "execute_result"
    }
   ],
   "source": [
    "df = pd.read_excel(\"AUTOMATION REQUESTS editted.xlsx\")\n",
    "requests = df[~df[\"REQUEST\"].isna()].apply(lambda x: x.str.split(\"\\n\"))[\"REQUEST\"].to_list()\n",
    "requests = [item for sublist in requests for item in sublist if item !='']\n",
    "requests"
   ]
  }
 ],
 "metadata": {
  "kernelspec": {
   "display_name": "Python 3",
   "language": "python",
   "name": "python3"
  },
  "language_info": {
   "codemirror_mode": {
    "name": "ipython",
    "version": 3
   },
   "file_extension": ".py",
   "mimetype": "text/x-python",
   "name": "python",
   "nbconvert_exporter": "python",
   "pygments_lexer": "ipython3",
   "version": "3.9.1"
  }
 },
 "nbformat": 4,
 "nbformat_minor": 5
}
