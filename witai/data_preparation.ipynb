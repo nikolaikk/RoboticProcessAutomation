{
 "cells": [
  {
   "cell_type": "code",
   "execution_count": 2,
   "id": "loving-snowboard",
   "metadata": {},
   "outputs": [],
   "source": [
    "import pandas as pd\n",
    "import warnings, os"
   ]
  },
  {
   "cell_type": "code",
   "execution_count": 3,
   "id": "saved-edinburgh",
   "metadata": {},
   "outputs": [
    {
     "name": "stdout",
     "output_type": "stream",
     "text": [
      "['Linkedin HR', 'Slack', 'Dribbble', 'Behance', 'Fiverr', 'Quora', 'Parser', 'Biteable', 'Upwork', 'Jira', 'Teamwork']\n"
     ]
    }
   ],
   "source": [
    "URL = r'https://docs.google.com/spreadsheets/d/1fWtTG28VsCQ2hTvfKPTT2sKMf2Qmhs1hvD-Su3CDHmg/export?output=xlsx'\n",
    "\n",
    "xl = pd.ExcelFile(URL)\n",
    "print(xl.sheet_names)"
   ]
  },
  {
   "cell_type": "code",
   "execution_count": 5,
   "id": "fantastic-reliance",
   "metadata": {},
   "outputs": [
    {
     "name": "stdout",
     "output_type": "stream",
     "text": [
      "Linkedin HR\n",
      "Found next groups {1.0: 'PROFILE', 2.0: 'BUILD NETWORK', 3.0: 'MESSAGES', 4.0: 'CONTENT', 5.0: 'CANDIDATES', 6.0: 'COMPANIES - SUPER LOW'}\n",
      "Slack\n",
      "Found next groups {1.0: 'SEARCHING AND REGISTRATION TO NEW SLACK COMMUNITIES ', 2.0: 'INTRODUCTION AND SETTINGS', 3.0: 'MESSAGES', 4.0: 'DOCUMENTATION'}\n",
      "Dribbble\n",
      "Found next groups {1.0: 'GET MORE FOLLOWERS', 2.0: 'MESSAGES'}\n",
      "Behance\n",
      "Found next groups {1.0: 'GET MORE FOLLOWERS', 2.0: 'MESSAGES'}\n",
      "Fiverr\n",
      "Found next groups {1.0: 'MESSAGES', 2.0: 'OFFERS', 3.0: 'REVIEWS', 4.0: 'ORDERS'}\n",
      "Quora\n",
      "Found next groups {1.0: 'FIND QUESTIONS AND REPLY', 2.0: nan}\n",
      "Parser\n",
      "Found next groups {1.0: 'CONTENT COPY', 2.0: nan}\n",
      "Biteable\n",
      "Found next groups {1.0: 'CONTENT ', 2.0: nan}\n",
      "Upwork\n",
      "Found next groups {1.0: 'SEARCHING', 2.0: 'PROPOSALS', 3.0: nan, 4.0: nan}\n",
      "Jira\n"
     ]
    },
    {
     "name": "stderr",
     "output_type": "stream",
     "text": [
      "<ipython-input-5-ac4d9195e132>:44: UserWarning: Could not load Jira table\n",
      "  warnings.warn(f\"Could not load {name} table\")\n"
     ]
    },
    {
     "name": "stdout",
     "output_type": "stream",
     "text": [
      "Teamwork\n"
     ]
    },
    {
     "name": "stderr",
     "output_type": "stream",
     "text": [
      "<ipython-input-5-ac4d9195e132>:44: UserWarning: Could not load Teamwork table\n",
      "  warnings.warn(f\"Could not load {name} table\")\n"
     ]
    }
   ],
   "source": [
    "def process_existing_excel(df):\n",
    "    \n",
    "    # drop empty columns\n",
    "    columns_to_drop = [column for column in df.columns if df[column].notna().sum()==0]\n",
    "    df = df.drop(columns=columns_to_drop)\n",
    "    \n",
    "    # set column names to the row values where \"No\" exists\n",
    "    df.columns = df[df.iloc[:,0]==\"No\"].values.flatten().tolist()\n",
    "    \n",
    "    # select subtable where first column starts starts with \"1\"\n",
    "    index = df[df.iloc[:,0]==1].index\n",
    "    df = df[df.index>=index[0]].reset_index(drop=True)\n",
    "    \n",
    "    # drop empty columns 2\n",
    "    columns_to_drop2 = [column for column in df.columns if df[column].notna().sum()==0]\n",
    "    df = df.drop(columns=columns_to_drop2)\n",
    "    \n",
    "    # drop groups\n",
    "    # find name of groups by selecting integers numbers\n",
    "    df[\"No\"] = df[\"No\"].astype(str).str.strip(' ').apply(lambda x: x[:-1] if x[-1]=='.' else x)\n",
    "    df[\"No\"] = df[\"No\"].apply(lambda x: x.split(\".\")[0]+f\".{int(x.split('.')[1]):02d}\" if \".\" in x else x)\n",
    "    df[\"No\"] = df[\"No\"].astype(float)\n",
    "    \n",
    "    groups = df[df[\"No\"]%1==0].iloc[:,:2]\n",
    "    groups = dict(groups.to_dict(\"split\")[\"data\"])\n",
    "    print(\"Found next groups\", groups)\n",
    "    df = df[~df[\"No\"].isin(groups.keys())]\n",
    "    \n",
    "    df[\"GROUP\"] = df[\"No\"].apply(lambda x: groups[x//1])\n",
    "    \n",
    "    # drop empty rows, where second column have Nans\n",
    "    df = df[df.iloc[:,1].notna()].reset_index(drop=True)\n",
    "    \n",
    "    return df\n",
    "\n",
    "dfs = {}\n",
    "for name in xl.sheet_names:\n",
    "    print(name)\n",
    "    df = pd.read_excel(URL, sheet_name=name)\n",
    "    try:\n",
    "        df = process_existing_excel(df)\n",
    "        dfs.update({name:df})\n",
    "    except:\n",
    "        warnings.warn(f\"Could not load {name} table\")"
   ]
  },
  {
   "cell_type": "code",
   "execution_count": 8,
   "id": "guided-produce",
   "metadata": {},
   "outputs": [
    {
     "name": "stdout",
     "output_type": "stream",
     "text": [
      "[Errno 17] File exists: 'data_transformed'\n"
     ]
    },
    {
     "data": {
      "text/plain": [
       "[None, None, None, None, None, None, None, None, None]"
      ]
     },
     "execution_count": 8,
     "metadata": {},
     "output_type": "execute_result"
    }
   ],
   "source": [
    "# Save dataframes to the folder\n",
    "FOLDER = \"data_transformed\"\n",
    "try: \n",
    "    os.mkdir(FOLDER) \n",
    "except OSError as error: \n",
    "    print(error)\n",
    "    \n",
    "[df.to_excel(os.path.join(FOLDER,f\"{name}.xlsx\")) for name,df in dfs.items()]"
   ]
  }
 ],
 "metadata": {
  "kernelspec": {
   "display_name": "Python 3",
   "language": "python",
   "name": "python3"
  },
  "language_info": {
   "codemirror_mode": {
    "name": "ipython",
    "version": 3
   },
   "file_extension": ".py",
   "mimetype": "text/x-python",
   "name": "python",
   "nbconvert_exporter": "python",
   "pygments_lexer": "ipython3",
   "version": "3.9.1"
  }
 },
 "nbformat": 4,
 "nbformat_minor": 5
}
