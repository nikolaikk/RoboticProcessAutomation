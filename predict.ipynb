{
 "cells": [
  {
   "cell_type": "code",
   "execution_count": 1,
   "metadata": {},
   "outputs": [
    {
     "name": "stdout",
     "output_type": "stream",
     "text": [
      "pygame 1.9.6\n",
      "Hello from the pygame community. https://www.pygame.org/contribute.html\n"
     ]
    }
   ],
   "source": [
    "import os, time, re\n",
    "import warnings\n",
    "warnings.filterwarnings(\"ignore\")\n",
    "\n",
    "from audio_utils import AudioRecorder, SpeechRecognizer, TextToAudioConverter\n",
    "import tensorflow as tf\n",
    "tf.get_logger().setLevel('INFO')\n",
    "\n",
    "%load_ext autoreload\n",
    "%autoreload 2"
   ]
  },
  {
   "cell_type": "markdown",
   "metadata": {},
   "source": [
    "# Text Input"
   ]
  },
  {
   "cell_type": "code",
   "execution_count": 2,
   "metadata": {},
   "outputs": [
    {
     "name": "stdout",
     "output_type": "stream",
     "text": [
      "record_audio 4.84 s\n"
     ]
    }
   ],
   "source": [
    "recorder = AudioRecorder()\n",
    "audio = recorder.record_audio()"
   ]
  },
  {
   "cell_type": "code",
   "execution_count": 3,
   "metadata": {},
   "outputs": [
    {
     "name": "stdout",
     "output_type": "stream",
     "text": [
      "recognize 1.39 s\n",
      "hi could you send an email please\n"
     ]
    }
   ],
   "source": [
    "recognizer = SpeechRecognizer()\n",
    "text = recognizer.recognize(audio)\n",
    "print(text)"
   ]
  },
  {
   "cell_type": "code",
   "execution_count": 4,
   "metadata": {},
   "outputs": [
    {
     "name": "stdout",
     "output_type": "stream",
     "text": [
      "output_audio 4.56 s\n"
     ]
    }
   ],
   "source": [
    "textconverter = TextToAudioConverter(language=\"en\")\n",
    "textconverter.output_audio(text)"
   ]
  },
  {
   "cell_type": "markdown",
   "metadata": {},
   "source": [
    "# Text Processing - Machine Learning Section"
   ]
  },
  {
   "cell_type": "code",
   "execution_count": 5,
   "metadata": {},
   "outputs": [],
   "source": [
    "from ml_core import clean, get_tokenizer, tokenize, build_dnn_model,\\\n",
    "                    load_model_DNN1, load_model_DNN2, load_label_encoder\n",
    "import pandas as pd\n",
    "import numpy as np\n",
    "import joblib "
   ]
  },
  {
   "cell_type": "code",
   "execution_count": 6,
   "metadata": {},
   "outputs": [],
   "source": [
    "text = clean(pd.Series(text))"
   ]
  },
  {
   "cell_type": "code",
   "execution_count": 7,
   "metadata": {},
   "outputs": [],
   "source": [
    "tokenized_text=tokenize(text,get_tokenizer(),maxlen=30)"
   ]
  },
  {
   "cell_type": "markdown",
   "metadata": {},
   "source": [
    "#### Check wheather this command is callable, 1 True, 0 False"
   ]
  },
  {
   "cell_type": "code",
   "execution_count": 8,
   "metadata": {},
   "outputs": [
    {
     "data": {
      "text/plain": [
       "1"
      ]
     },
     "execution_count": 8,
     "metadata": {},
     "output_type": "execute_result"
    }
   ],
   "source": [
    "model1 = load_model_DNN1()\n",
    "y_pred = model1.predict(tokenized_text).argmax()\n",
    "y_pred"
   ]
  },
  {
   "cell_type": "markdown",
   "metadata": {},
   "source": [
    "#### If command is callable, it is classified."
   ]
  },
  {
   "cell_type": "code",
   "execution_count": 9,
   "metadata": {},
   "outputs": [
    {
     "name": "stdout",
     "output_type": "stream",
     "text": [
      "['email']\n"
     ]
    }
   ],
   "source": [
    "if y_pred==1:\n",
    "    model2 = load_model_DNN2()\n",
    "    y_pred2 = model2.predict(tokenized_text).argmax()\n",
    "    encoder = load_label_encoder()\n",
    "    command = encoder.inverse_transform(np.array(y_pred2).reshape(1,-1))\n",
    "    print(command)"
   ]
  },
  {
   "cell_type": "code",
   "execution_count": 10,
   "metadata": {},
   "outputs": [
    {
     "name": "stdout",
     "output_type": "stream",
     "text": [
      "\n",
      "                                     _   _ \n",
      "           ___   _ __ ___     __ _  (_) | |\n",
      "          / _ \\ | '_ ` _ \\   / _` | | | | |\n",
      "         |  __/ | | | | | | | (_| | | | | |\n",
      "          \\___| |_| |_| |_|  \\__,_| |_| |_|\n",
      "\n",
      "            \n"
     ]
    }
   ],
   "source": [
    "from rpa_commands import call_rpa, call_play_music, call_book_hotel, call_send_email, call_schedule_calendar\n",
    "dictionary = {\"rpa\":call_rpa, \"email\":call_send_email, \"hotel\":call_book_hotel, \n",
    "              \"calendar\":call_schedule_calendar, \"music\":call_play_music}\n",
    "\n",
    "method = dictionary[command[0]]\n",
    "method()"
   ]
  },
  {
   "cell_type": "code",
   "execution_count": 11,
   "metadata": {},
   "outputs": [
    {
     "name": "stdout",
     "output_type": "stream",
     "text": [
      "output_audio 3.54 s\n",
      "record_audio 7.01 s\n",
      "recognize 3.01 s\n",
      "nicoleikk@gmail.com\n",
      "output_audio 5.07 s\n"
     ]
    }
   ],
   "source": [
    "if command[0]==\"email\":\n",
    "    textconverter2 = TextToAudioConverter(language=\"en\")\n",
    "    textconverter2.output_audio(\"Please enter your email:\")\n",
    "    \n",
    "    recorder2 = AudioRecorder()\n",
    "    audio2 = recorder.record_audio()\n",
    "    \n",
    "    recognizer2 = SpeechRecognizer()\n",
    "    text2 = recognizer.recognize(audio2)\n",
    "    print(text2.replace(\" \",\"\").lower())\n",
    " \n",
    "    textconverter2 = TextToAudioConverter(language=\"en\")\n",
    "    textconverter2.output_audio(text2.replace(\" \",\"\").lower())"
   ]
  }
 ],
 "metadata": {
  "kernelspec": {
   "display_name": "Python 3",
   "language": "python",
   "name": "python3"
  },
  "language_info": {
   "codemirror_mode": {
    "name": "ipython",
    "version": 3
   },
   "file_extension": ".py",
   "mimetype": "text/x-python",
   "name": "python",
   "nbconvert_exporter": "python",
   "pygments_lexer": "ipython3",
   "version": "3.7.9"
  }
 },
 "nbformat": 4,
 "nbformat_minor": 4
}
