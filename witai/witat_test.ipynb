{
 "cells": [
  {
   "cell_type": "code",
   "execution_count": 20,
   "id": "superior-community",
   "metadata": {},
   "outputs": [],
   "source": [
    "from wit import Wit\n",
    "\n",
    "client = Wit(\"J7NM27NM54JST7DCPFNJGJL735P3JCRH\")"
   ]
  },
  {
   "cell_type": "code",
   "execution_count": 21,
   "id": "certified-islam",
   "metadata": {},
   "outputs": [],
   "source": [
    "resp = client.message(\"Hi, send message to Lenard on Linkedin\")"
   ]
  },
  {
   "cell_type": "code",
   "execution_count": 22,
   "id": "foster-shepherd",
   "metadata": {},
   "outputs": [
    {
     "data": {
      "text/plain": [
       "{'text': 'Hi, send message to Lenard on Linkedin',\n",
       " 'intents': [{'id': '684773215527178',\n",
       "   'name': 'send_message',\n",
       "   'confidence': 0.9294}],\n",
       " 'entities': {'platform:platform': [{'id': '409023576825548',\n",
       "    'name': 'platform',\n",
       "    'role': 'platform',\n",
       "    'start': 30,\n",
       "    'end': 38,\n",
       "    'body': 'Linkedin',\n",
       "    'confidence': 0.9216,\n",
       "    'entities': [],\n",
       "    'value': 'Linkedin',\n",
       "    'type': 'value'}],\n",
       "  'wit$contact:contact': [{'id': '342995196740578',\n",
       "    'name': 'wit$contact',\n",
       "    'role': 'contact',\n",
       "    'start': 20,\n",
       "    'end': 26,\n",
       "    'body': 'Lenard',\n",
       "    'confidence': 0.9376,\n",
       "    'entities': [],\n",
       "    'suggested': True,\n",
       "    'value': 'Lenard',\n",
       "    'type': 'value'}],\n",
       "  'wit$message_body:message_body': [{'id': '168195304737581',\n",
       "    'name': 'wit$message_body',\n",
       "    'role': 'message_body',\n",
       "    'start': 4,\n",
       "    'end': 16,\n",
       "    'body': 'send message',\n",
       "    'confidence': 0.8779,\n",
       "    'entities': [],\n",
       "    'suggested': True,\n",
       "    'value': 'send message',\n",
       "    'type': 'value'}]},\n",
       " 'traits': {}}"
      ]
     },
     "execution_count": 22,
     "metadata": {},
     "output_type": "execute_result"
    }
   ],
   "source": [
    "resp"
   ]
  },
  {
   "cell_type": "code",
   "execution_count": 23,
   "id": "bacterial-aging",
   "metadata": {},
   "outputs": [
    {
     "data": {
      "text/plain": [
       "{'text': 'Hi, send message \"Hi dude, where is my money?\" to Lenard on Linkedin, weekly.',\n",
       " 'intents': [{'id': '684773215527178',\n",
       "   'name': 'send_message',\n",
       "   'confidence': 0.9863}],\n",
       " 'entities': {'period:period': [{'id': '160226858995583',\n",
       "    'name': 'period',\n",
       "    'role': 'period',\n",
       "    'start': 70,\n",
       "    'end': 76,\n",
       "    'body': 'weekly',\n",
       "    'confidence': 1,\n",
       "    'entities': [],\n",
       "    'value': 'weekly',\n",
       "    'type': 'value'}],\n",
       "  'platform:platform': [{'id': '409023576825548',\n",
       "    'name': 'platform',\n",
       "    'role': 'platform',\n",
       "    'start': 60,\n",
       "    'end': 68,\n",
       "    'body': 'Linkedin',\n",
       "    'confidence': 0.9331,\n",
       "    'entities': [],\n",
       "    'value': 'Linkedin',\n",
       "    'type': 'value'}],\n",
       "  'wit$contact:contact': [{'id': '342995196740578',\n",
       "    'name': 'wit$contact',\n",
       "    'role': 'contact',\n",
       "    'start': 50,\n",
       "    'end': 56,\n",
       "    'body': 'Lenard',\n",
       "    'confidence': 0.9179,\n",
       "    'entities': [],\n",
       "    'suggested': True,\n",
       "    'value': 'Lenard',\n",
       "    'type': 'value'}],\n",
       "  'wit$message_body:message_body': [{'id': '168195304737581',\n",
       "    'name': 'wit$message_body',\n",
       "    'role': 'message_body',\n",
       "    'start': 17,\n",
       "    'end': 46,\n",
       "    'body': '\"Hi dude, where is my money?\"',\n",
       "    'confidence': 0.7137,\n",
       "    'entities': [],\n",
       "    'suggested': True,\n",
       "    'value': '\"Hi dude, where is my money?\"',\n",
       "    'type': 'value'}]},\n",
       " 'traits': {}}"
      ]
     },
     "execution_count": 23,
     "metadata": {},
     "output_type": "execute_result"
    }
   ],
   "source": [
    "resp = client.message('Hi, send message \"Hi dude, where is my money?\" to Lenard on Linkedin, weekly.')\n",
    "resp"
   ]
  },
  {
   "cell_type": "code",
   "execution_count": null,
   "id": "conceptual-caribbean",
   "metadata": {},
   "outputs": [],
   "source": []
  }
 ],
 "metadata": {
  "kernelspec": {
   "display_name": "Python 3",
   "language": "python",
   "name": "python3"
  },
  "language_info": {
   "codemirror_mode": {
    "name": "ipython",
    "version": 3
   },
   "file_extension": ".py",
   "mimetype": "text/x-python",
   "name": "python",
   "nbconvert_exporter": "python",
   "pygments_lexer": "ipython3",
   "version": "3.9.1"
  }
 },
 "nbformat": 4,
 "nbformat_minor": 5
}
